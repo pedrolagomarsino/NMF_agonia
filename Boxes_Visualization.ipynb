{
 "cells": [
  {
   "cell_type": "code",
   "execution_count": null,
   "metadata": {},
   "outputs": [],
   "source": [
    "import holoviews as hv\n",
    "import numpy as np\n",
    "from time import time\n",
    "import pickle\n",
    "from sklearn.decomposition import NMF\n",
    "import imageio \n",
    " \n",
    "hv.extension('bokeh', 'matplotlib')\n",
    "\n",
    "def NMF_dec(box, n_components=1,init=None,random_state=None):\n",
    "    cell=boxes[box]\n",
    "    ##Reshape data to have boxes as single columns x time\n",
    "    X = np.array([cell[:,:,i].reshape((np.size(cell,0)*np.size(cell,1))) for i in range(np.size(cell,2))]).T\n",
    "    # fit NMF\n",
    "    model = NMF(n_components=n_components, init=init, random_state=random_state)\n",
    "    W = model.fit_transform(X)\n",
    "    H = model.components_\n",
    "    return W,H\n",
    "\n",
    "def component_anim(W,H,n_component,frames_range):\n",
    "    frames = {f: hv.Image(np.array(W[:,n_component]*H[n_component,f]).reshape(np.shape(cell[:,:,0]))).opts(cmap='Viridis') for f in frames_range}\n",
    "    %output holomap='gif' size=200\n",
    "    return hv.HoloMap(frames)\n"
   ]
  },
  {
   "cell_type": "code",
   "execution_count": null,
   "metadata": {},
   "outputs": [],
   "source": [
    "from holoviews import opts\n",
    "opts.defaults(\n",
    "    opts.GridSpace(shared_xaxis=True, shared_yaxis=True),\n",
    "    opts.Image(cmap='viridis', width=400, height=400),\n",
    "    opts.Labels(text_color='white', text_font_size='8pt', text_align='left', text_baseline='bottom'),\n",
    "    opts.Path(color='white'),\n",
    "    opts.Spread(width=600),\n",
    "    opts.Overlay(show_legend=False))"
   ]
  },
  {
   "cell_type": "code",
   "execution_count": null,
   "metadata": {},
   "outputs": [],
   "source": [
    "#import data\n",
    "filename = '/home/pedro/Work/AGOnIA/Boxes-data/Seeded-Caiman/patches.pkl'\n",
    "with open(filename,'rb') as f:\n",
    "    boxes = pickle.load(f)\n",
    "    f.close()\n"
   ]
  },
  {
   "cell_type": "code",
   "execution_count": null,
   "metadata": {},
   "outputs": [],
   "source": [
    "# lets animate frames of one cell\n",
    "cell=boxes[165]#5  \n",
    "img = hv.Image(cell[:,:,0].T,bounds=[0,0,len(cell[:,0,0]),len(cell[0,:,0])]).opts(cmap='Viridis')\n",
    "frames = {f: hv.Image(cell[:,:,f].T).opts(cmap='Viridis') for f in range(2800,2943)}\n",
    "img\n"
   ]
  },
  {
   "cell_type": "code",
   "execution_count": null,
   "metadata": {},
   "outputs": [],
   "source": [
    "X = np.array([cell[:,:,i].reshape((np.size(cell,0)*np.size(cell,1))) for i in range(np.size(cell,2))]).T\n",
    "\n",
    "# fit NMF\n",
    "model = NMF(n_components=2, init='random', random_state=0)\n",
    "W = model.fit_transform(X)\n",
    "H = model.components_\n"
   ]
  },
  {
   "cell_type": "code",
   "execution_count": null,
   "metadata": {},
   "outputs": [],
   "source": [
    "img = hv.Image(np.array(W[:,1]).reshape(np.shape(cell[:,:,0]))).opts(cmap='Viridis')\n",
    "img"
   ]
  },
  {
   "cell_type": "code",
   "execution_count": null,
   "metadata": {},
   "outputs": [],
   "source": [
    "hv.extension('matplotlib')\n",
    "frames = {f: hv.Image(np.array(W[:,0]*H[0,f]).reshape(np.shape(cell[:,:,0]))).opts(cmap='Viridis') for f in range(800,1000)}\n",
    "frames1 = {f: hv.Image(np.array(W[:,1]*H[1,f]).reshape(np.shape(cell[:,:,0]))).opts(cmap='Viridis') for f in range(800,1000)}\n",
    "%output holomap='mp4' size=200\n",
    "hv.HoloMap(frames)"
   ]
  },
  {
   "cell_type": "code",
   "execution_count": null,
   "metadata": {},
   "outputs": [],
   "source": [
    "hv.HoloMap(frames1)"
   ]
  },
  {
   "cell_type": "code",
   "execution_count": null,
   "metadata": {},
   "outputs": [],
   "source": [
    "# check the similarity with the median/mean\n",
    "ti = time()\n",
    "points_W = []\n",
    "points_med = []\n",
    "points_mean = []\n",
    "for i in range(len(boxes)):\n",
    "    W,H = NMF_dec(box=i,n_components=1)\n",
    "    points_W    = np.append(np.array(points_W),W[:,0]/np.linalg.norm(W))\n",
    "    points_mean = np.append(np.array(points_mean),np.mean(boxes[i],axis=2).reshape((np.size(boxes[i],0)*np.size(boxes[i],1)))/np.linalg.norm(np.mean(boxes[i],axis=2)))\n",
    "    points_med  = np.append(np.array(points_med),np.median(boxes[i],axis=2).reshape((np.size(boxes[i],0)*np.size(boxes[i],1)))/np.linalg.norm(np.median(boxes[i],axis=2)))\n",
    "tf = time()\n",
    "print(tf-ti)\n"
   ]
  },
  {
   "cell_type": "code",
   "execution_count": null,
   "metadata": {},
   "outputs": [],
   "source": [
    "# see the correlation between the first component in NMF(done with just one component) and the mean/median\n",
    "hv.extension('bokeh')\n",
    "layout = hv.Scatter(np.array([points_W,points_med]).T,kdims='Frist component',vdims='Median') + hv.Scatter(np.array([points_W,points_mean]).T,kdims=' First component',vdims='Mean')\n",
    "layout"
   ]
  },
  {
   "cell_type": "code",
   "execution_count": null,
   "metadata": {},
   "outputs": [],
   "source": [
    "# see the first component for NMF with different amount of components\n",
    "max_components = 2\n",
    "box = 165#274\n",
    "cell = boxes[box]\n",
    "W = np.zeros((np.size(cell,0)*np.size(cell,1),max_components))\n",
    "H = np.zeros((np.size(cell,2),max_components))\n",
    "for i in range(max_components):\n",
    "    w,h = NMF_dec(box=box,n_components=i+1)\n",
    "    W[:,i] = w[:,0]\n",
    "    H[:,i] = h[0,:]\n",
    "    \n",
    "# overlaping cell\n",
    "max_components = 2\n",
    "box1 = 54\n",
    "cell1 = boxes[box1]\n",
    "W1 = np.zeros((np.size(cell1,0)*np.size(cell1,1),max_components))\n",
    "H1 = np.zeros((np.size(cell1,2),max_components))\n",
    "for i in range(max_components):\n",
    "    w,h = NMF_dec(box=box1,n_components=i+1)\n",
    "    W1[:,i] = w[:,0]\n",
    "    H1[:,i] = h[0,:]"
   ]
  },
  {
   "cell_type": "code",
   "execution_count": null,
   "metadata": {},
   "outputs": [],
   "source": [
    "first_components = {int(i+1):hv.Image(np.array((W[:,i]-np.min(W))/(np.max(W)-np.min(W))).reshape(np.shape(cell[:,:,0]))).opts(colorbar=True,cmap='Viridis') for i in range(max_components)}\n",
    "holomap = hv.HoloMap(first_components,kdims='n_componentes')\n",
    "holomap[1].hist()"
   ]
  },
  {
   "cell_type": "code",
   "execution_count": null,
   "metadata": {},
   "outputs": [],
   "source": [
    "#include in a dataset \n",
    "ds = hv.Dataset((np.arange(len(cell[0,0,:])), np.arange(len(cell[0,:,0])), np.arange(len(cell[:,0,0])), cell),\n",
    "                ['Time', 'x', 'y'], 'Fluorescence')\n",
    "ds"
   ]
  },
  {
   "cell_type": "code",
   "execution_count": null,
   "metadata": {},
   "outputs": [],
   "source": [
    "dw = hv.Dataset((np.arange(max_components), np.arange(np.size(cell,1)), np.arange(np.size(cell,0)),W.reshape((np.size(cell,0),np.size(cell,1),max_components))),\n",
    "                ['N_components', 'x', 'y'], 'First_components')\n",
    "#dw.to(hv.Image, ['x', 'y']).hist()\n",
    "\n",
    "dw1 = hv.Dataset((np.arange(max_components), np.arange(np.size(cell1,1)), np.arange(np.size(cell1,0)),W1.reshape((np.size(cell1,0),np.size(cell1,1),max_components))),\n",
    "                ['N_components', 'x', 'y'], 'First_components')\n",
    "dw.to(hv.Image, ['x', 'y']).hist() + dw1.to(hv.Image, ['x', 'y']).hist()"
   ]
  },
  {
   "cell_type": "code",
   "execution_count": null,
   "metadata": {},
   "outputs": [],
   "source": [
    "dh = hv.Dataset((np.arange(len(H[0,:])),np.arange(len(H[:,0])),H),['N_components','Time'],'Traces')\n",
    "dh1 = hv.Dataset((np.arange(len(H1[0,:])),np.arange(len(H1[:,0])),H1),['N_components','Time'],'Traces')\n",
    "\n",
    "dh.to.curve('Time').opts(height=200,width =300,title='Cell 274')+dh1.to.curve('Time').opts(title='Cell 54',height=200,width =300)"
   ]
  },
  {
   "cell_type": "code",
   "execution_count": null,
   "metadata": {},
   "outputs": [],
   "source": [
    "w,h = NMF_dec(box=box,n_components=2)\n",
    "w1,h1 = NMF_dec(box=box1,n_components=5)\n"
   ]
  },
  {
   "cell_type": "code",
   "execution_count": null,
   "metadata": {},
   "outputs": [],
   "source": [
    "(hv.Image(np.corrcoef(h,h1)).opts(colorbar=True,width=500,cmap='RdBu',symmetric=True)*hv.Bounds((0,0,.5,.5))+\n",
    "hv.Image(np.corrcoef(h,h1)[:5,5:],kdims=['h1','h']).opts(colorbar=True,width=500,cmap='RdBu',symmetric=True)+\n",
    "hv.Image(np.corrcoef(h)).opts(colorbar=True,width=500,cmap='RdBu',symmetric=True,title='h')+\n",
    "hv.Image(np.corrcoef(h1)).opts(colorbar=True,width=500,cmap='RdBu',symmetric=True,title='h1')).cols(2)"
   ]
  },
  {
   "cell_type": "code",
   "execution_count": null,
   "metadata": {},
   "outputs": [],
   "source": [
    "curves0 = [(hv.Curve(H[:,i], group='Cell 274') + hv.Curve(H1[:,i], group='Cell 54')) for i in range(2)]\n",
    "hv.Layout(curves0).cols(2)"
   ]
  },
  {
   "cell_type": "code",
   "execution_count": null,
   "metadata": {},
   "outputs": [],
   "source": [
    "img = hv.RGB.load_image('/home/pedro/Work/AGOnIA/Boxes-data/Seeded-Caiman/501271265.bmp',bounds=(0,0,512,512))\n",
    "with open('/home/pedro/Work/AGOnIA/Boxes-data/Seeded-Caiman/501271265_boxes.pkl','rb') as f:\n",
    "    cajas = pickle.load(f)\n",
    "    f.close()"
   ]
  },
  {
   "cell_type": "code",
   "execution_count": null,
   "metadata": {},
   "outputs": [],
   "source": [
    "ROIs = np.empty(np.shape(np.array(cajas[:,:4]))).astype('int')\n",
    "ROIs[:,[0,2]] = np.array(cajas[:,[0,2]].astype('int'))\n",
    "ROIs[:,[1,3]] = 512-np.array(cajas[:,[1,3]].astype('int'))\n",
    "\n",
    "roi_bounds = hv.Path([hv.Bounds(tuple(roi)) for roi in ROIs])\n",
    "labels = hv.Labels([(roi[0], roi[1], i) for i, roi in enumerate(ROIs)])\n",
    "print(ROIs.shape)\n"
   ]
  },
  {
   "cell_type": "code",
   "execution_count": null,
   "metadata": {},
   "outputs": [],
   "source": [
    "(img*roi_bounds*labels).opts(width=800, height=800)#labels.select(Label=[54,274])*hv.Bounds(tuple(ROIs[box])).opts(color='red')*hv.Bounds(tuple(ROIs[box1])).opts(color='red')"
   ]
  },
  {
   "cell_type": "code",
   "execution_count": null,
   "metadata": {},
   "outputs": [],
   "source": [
    "p = np.random.rand(3,100)\n",
    "q = np.random.rand(3,100)\n",
    "np.cov(p,q)-np.cov(p[0,:],q[0,:])[1,0]"
   ]
  },
  {
   "cell_type": "code",
   "execution_count": null,
   "metadata": {},
   "outputs": [],
   "source": []
  }
 ],
 "metadata": {
  "kernelspec": {
   "display_name": "Python 3",
   "language": "python",
   "name": "python3"
  },
  "language_info": {
   "codemirror_mode": {
    "name": "ipython",
    "version": 3
   },
   "file_extension": ".py",
   "mimetype": "text/x-python",
   "name": "python",
   "nbconvert_exporter": "python",
   "pygments_lexer": "ipython3",
   "version": "3.7.4"
  },
  "toc": {
   "base_numbering": 1,
   "nav_menu": {},
   "number_sections": true,
   "sideBar": true,
   "skip_h1_title": false,
   "title_cell": "Table of Contents",
   "title_sidebar": "Contents",
   "toc_cell": false,
   "toc_position": {},
   "toc_section_display": true,
   "toc_window_display": true
  },
  "varInspector": {
   "cols": {
    "lenName": 16,
    "lenType": 16,
    "lenVar": 40
   },
   "kernels_config": {
    "python": {
     "delete_cmd_postfix": "",
     "delete_cmd_prefix": "del ",
     "library": "var_list.py",
     "varRefreshCmd": "print(var_dic_list())"
    },
    "r": {
     "delete_cmd_postfix": ") ",
     "delete_cmd_prefix": "rm(",
     "library": "var_list.r",
     "varRefreshCmd": "cat(var_dic_list()) "
    }
   },
   "types_to_exclude": [
    "module",
    "function",
    "builtin_function_or_method",
    "instance",
    "_Feature"
   ],
   "window_display": false
  }
 },
 "nbformat": 4,
 "nbformat_minor": 2
}
