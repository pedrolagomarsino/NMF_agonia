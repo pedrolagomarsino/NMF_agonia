{
 "cells": [
  {
   "cell_type": "markdown",
   "metadata": {},
   "source": [
    "# Comparison with CaImAn\n",
    "Here we run the Caiman algorithm as it is and then initializing it using the Agonia boxes or center of cells to segment and compare the extracted traces."
   ]
  },
  {
   "cell_type": "code",
   "execution_count": null,
   "metadata": {},
   "outputs": [],
   "source": [
    "import bokeh.plotting as bpl\n",
    "import cv2\n",
    "import glob\n",
    "import logging\n",
    "import matplotlib.pyplot as plt\n",
    "import numpy as np\n",
    "import os\n",
    "\n",
    "try:\n",
    "    cv2.setNumThreads(0)\n",
    "except():\n",
    "    pass\n",
    "\n",
    "try:\n",
    "    if __IPYTHON__:\n",
    "        # this is used for debugging purposes only. allows to reload classes\n",
    "        # when changed\n",
    "        get_ipython().magic('load_ext autoreload')\n",
    "        get_ipython().magic('autoreload 2')\n",
    "except NameError:\n",
    "    pass\n",
    "\n",
    "import caiman as cm\n",
    "from caiman.motion_correction import MotionCorrect\n",
    "from caiman.source_extraction.cnmf import cnmf as cnmf\n",
    "from caiman.source_extraction.cnmf import params as params\n",
    "from caiman.utils.utils import download_demo\n",
    "from caiman.utils.visualization import plot_contours, nb_view_patches, nb_plot_contour\n",
    "bpl.output_notebook()\n",
    "\n",
    "import xml.etree.ElementTree as et \n",
    "import pandas as pd\n",
    "from matplotlib.patches import Rectangle\n",
    "\n",
    "import pandas as pd\n",
    "import pickle\n",
    "import time"
   ]
  },
  {
   "cell_type": "markdown",
   "metadata": {},
   "source": [
    "## Data preparation"
   ]
  },
  {
   "cell_type": "markdown",
   "metadata": {},
   "source": [
    "### Load data"
   ]
  },
  {
   "cell_type": "markdown",
   "metadata": {},
   "source": [
    "Load caiman results into cnm object and Agonia boxes into ROIs"
   ]
  },
  {
   "cell_type": "code",
   "execution_count": null,
   "metadata": {},
   "outputs": [],
   "source": [
    "#data_path = '/home/pedro/Work/AGOnIA/Boxes-data/Seeded-Caiman'\n",
    "data_path = '/home/pedro/Work/AGOnIA/Boxes-data/Seeded-Caiman/prueba'\n",
    "#data_name = '501271265_5000'\n",
    "data_name = '501271265_5000_crop'\n",
    "data_format = 'tif'\n",
    "fnames = [os.path.join(data_path,data_name + '.' + data_format)]\n",
    "\n",
    "# load boxes position info\n",
    "with open(os.path.join(data_path,'501271265_boxes.pkl'),'rb') as f:\n",
    "    cajas = pickle.load(f)\n",
    "    f.close()\n",
    "ROIs = np.empty(np.shape(np.array(cajas[:,:4]))).astype('int')\n",
    "ROIs[:,[0,2]] = np.array(cajas[:,[0,2]].astype('int'))\n",
    "ROIs[:,[1,3]] = np.array(cajas[:,[1,3]].astype('int'))\n",
    "\n",
    "# load boxes temporal traces\n",
    "filename = os.path.join(data_path,'patches.pkl')\n",
    "with open(filename,'rb') as f:\n",
    "    boxes_traces = pickle.load(f)\n",
    "    f.close()\n",
    "\n",
    "# load Caiman results\n",
    "cnm = cnmf.load_CNMF(os.path.join(data_path,data_name + '_analysis_results.hdf5'))\n"
   ]
  },
  {
   "cell_type": "code",
   "execution_count": null,
   "metadata": {},
   "outputs": [],
   "source": [
    "data_path = '/home/pedro/Work/AGOnIA/Boxes-data/Seeded-Caiman/prueba'\n",
    "data_name = '501271265_5000_crop'\n",
    "data_format = 'tif'\n",
    "fnames = [os.path.join(data_path,data_name + '.' + data_format)]\n",
    "\n",
    "# load boxes position info\n",
    "with open(os.path.join(data_path,data_name + '_boxes.pkl'),'rb') as f:\n",
    "    cajas = pickle.load(f)\n",
    "    f.close()\n",
    "ROIs = np.empty(np.shape(np.array(cajas[:,:4]))).astype('int')\n",
    "ROIs[:,[0,2]] = np.array(cajas[:,[0,2]].astype('int'))\n",
    "ROIs[:,[1,3]] = np.array(cajas[:,[1,3]].astype('int'))\n",
    "\n",
    "cnm = cnmf.load_CNMF(os.path.join(data_path,data_name + '_analysis_results.hdf5'))\n"
   ]
  },
  {
   "cell_type": "markdown",
   "metadata": {},
   "source": [
    "Data set analized with caiman without the agonia seeds "
   ]
  },
  {
   "cell_type": "code",
   "execution_count": null,
   "metadata": {},
   "outputs": [],
   "source": [
    "fnames = ['/home/pedro/Work/AGOnIA/Boxes-data/Caiman_test/866.avi']\n",
    "cnm = cnmf.load_CNMF('/home/pedro/caiman_data/demos/notebooks/analysis_results.hdf5')\n",
    "xtree = et.parse(\"/home/pedro/Work/AGOnIA/Boxes-data/Caiman_test/866.xml\")\n",
    "xroot = xtree.getroot()\n",
    "\n",
    "df_cols = [\"Cell\", \"xmin\", \"ymin\", \"xmax\" , 'ymax']\n",
    "rows = []\n",
    "\n",
    "for i, node in enumerate(xroot[6:]): \n",
    "    box = i\n",
    "    xmin = int(node.find('bndbox').find('xmin').text)\n",
    "    ymin = int(node.find('bndbox').find('ymin').text)\n",
    "    xmax = int(node.find('bndbox').find('xmax').text)\n",
    "    ymax = int(node.find('bndbox').find('ymax').text)\n",
    "    \n",
    "    rows.append({\"Cell\": box, \"xmin\": xmin, \n",
    "                 \"ymin\": ymin, \"xmax\": xmax,\n",
    "                 \"ymax\": ymax})\n",
    "\n",
    "Box_agonia = pd.DataFrame(rows, columns = df_cols)\n",
    "    "
   ]
  },
  {
   "cell_type": "markdown",
   "metadata": {},
   "source": [
    "### View movies"
   ]
  },
  {
   "cell_type": "code",
   "execution_count": null,
   "metadata": {},
   "outputs": [],
   "source": [
    "single_movie = cm.load(fnames)\n",
    "print(single_movie.shape)"
   ]
  },
  {
   "cell_type": "code",
   "execution_count": null,
   "metadata": {},
   "outputs": [],
   "source": [
    "display_movie = True\n",
    "if display_movie:\n",
    "    m_orig = cm.load_movie_chain(fnames)\n",
    "    ds_ratio = 0.2\n",
    "    m_orig.resize(1, 1, ds_ratio).play(\n",
    "        q_max=99.5, fr=5, magnification=2)"
   ]
  },
  {
   "cell_type": "markdown",
   "metadata": {},
   "source": [
    "### Background for boxes\n",
    "Calculate the median of the recording and the sum of all the cells detected by Caiman. \n",
    "Plot AGONIA boxes on top of them. "
   ]
  },
  {
   "cell_type": "code",
   "execution_count": null,
   "metadata": {},
   "outputs": [],
   "source": [
    "med      = np.median(single_movie,axis=0)\n",
    "max_proj = np.max(single_movie,axis=0)\n",
    "caiman_cells = [np.reshape(cnm.estimates.A[:,i].toarray(), cnm.estimates.dims, order='F') for i in range(cnm.estimates.A.shape[1])]"
   ]
  },
  {
   "cell_type": "markdown",
   "metadata": {},
   "source": [
    "## Plot data"
   ]
  },
  {
   "cell_type": "markdown",
   "metadata": {},
   "source": [
    "### Non-seeded Caiman"
   ]
  },
  {
   "cell_type": "code",
   "execution_count": null,
   "metadata": {},
   "outputs": [],
   "source": [
    "fig,ax = plt.subplots(1,2,figsize=(15,7))\n",
    "ax[0].imshow(med,cmap='gray')\n",
    "for i in range(Box_agonia['Cell'].iloc[-1]):\n",
    "    rect = Rectangle((Box_agonia['xmin'][i],Box_agonia['ymin'][i]), Box_agonia['xmax'][i]-Box_agonia['xmin'][i],\n",
    "          Box_agonia['ymax'][i]-Box_agonia['ymin'][i],color='r',fill=False)\n",
    "    ax[0].add_patch(rect)\n",
    "ax[0].set_title('AGONIA over median',fontsize=15)\n",
    "ax[1].imshow(np.sum(caiman_cells,axis=0))\n",
    "for i in range(Box_agonia['Cell'].iloc[-1]):\n",
    "    rect = Rectangle((Box_agonia['xmin'][i],Box_agonia['ymin'][i]), Box_agonia['xmax'][i]-Box_agonia['xmin'][i],\n",
    "          Box_agonia['ymax'][i]-Box_agonia['ymin'][i],color='r',fill=False)\n",
    "    ax[1].add_patch(rect)\n",
    "ax[1].set_title('AGONIA CaImAn detection',fontsize=15)\n"
   ]
  },
  {
   "cell_type": "markdown",
   "metadata": {},
   "source": [
    "### Seeded Caiman"
   ]
  },
  {
   "cell_type": "markdown",
   "metadata": {},
   "source": [
    "Plot boxes on top of **median projection** and on top of **Caiman factors**"
   ]
  },
  {
   "cell_type": "code",
   "execution_count": null,
   "metadata": {},
   "outputs": [],
   "source": [
    "fig,ax = plt.subplots(figsize=(12,12))\n",
    "ax.imshow(med,cmap='gray')\n",
    "for i in range(ROIs.shape[0]):\n",
    "    rect = Rectangle((ROIs[i,0],ROIs[i,1]), ROIs[i,2]-ROIs[i,0],\n",
    "          ROIs[i,3]-ROIs[i,1],color='r',fill=False)\n",
    "    ax.add_patch(rect)\n",
    "ax.set_title('AGONIA over median',fontsize=15)\n"
   ]
  },
  {
   "cell_type": "code",
   "execution_count": null,
   "metadata": {},
   "outputs": [],
   "source": [
    "fig,ax = plt.subplots(1,2,figsize=(24,12))\n",
    "ax[0].imshow(med,cmap='gray')\n",
    "for i in range(ROIs.shape[0]):\n",
    "    rect = Rectangle((ROIs[i,0],ROIs[i,1]), ROIs[i,2]-ROIs[i,0],\n",
    "          ROIs[i,3]-ROIs[i,1],color='r',fill=False)\n",
    "    ax[0].add_patch(rect)\n",
    "ax[0].set_title('AGONIA over median',fontsize=15)\n",
    "\n",
    "ax[1].imshow(np.sum(caiman_cells,axis=0))\n",
    "for i in range(ROIs.shape[0]):\n",
    "    rect = Rectangle((ROIs[i,0],ROIs[i,1]), ROIs[i,2]-ROIs[i,0],\n",
    "          ROIs[i,3]-ROIs[i,1],color='r',fill=False)\n",
    "    ax[1].add_patch(rect)\n",
    "ax[1].set_title('AGONIA CaImAn detection',fontsize=15)\n"
   ]
  },
  {
   "cell_type": "markdown",
   "metadata": {},
   "source": [
    "Use plot_contours_nb tool to find specific factors"
   ]
  },
  {
   "cell_type": "code",
   "execution_count": null,
   "metadata": {},
   "outputs": [],
   "source": [
    "np.linspace(208,210,3)"
   ]
  },
  {
   "cell_type": "code",
   "execution_count": null,
   "metadata": {},
   "outputs": [],
   "source": [
    "#n_cells = [185,199]\n",
    "#n_cells = [19,165]\n",
    "n_cells = [217]\n",
    "cnm.estimates.plot_contours_nb(img=None,idx=n_cells)#idx=np.linspace(208,210,3).astype(int)# >150"
   ]
  },
  {
   "cell_type": "markdown",
   "metadata": {},
   "source": [
    "Plot selected factors and the Agonia boxes"
   ]
  },
  {
   "cell_type": "code",
   "execution_count": null,
   "metadata": {},
   "outputs": [],
   "source": [
    "fig,ax = plt.subplots(figsize=(30,20))\n",
    "ax.imshow(np.sum([caiman_cells[i] for i in n_cells],axis=0),cmap='gray')\n",
    "for i in n_cells:#185\n",
    "    rect = Rectangle((ROIs[i,0],ROIs[i,1]), ROIs[i,2]-ROIs[i,0],\n",
    "          ROIs[i,3]-ROIs[i,1],color='r',fill=False)\n",
    "    ax.add_patch(rect)"
   ]
  },
  {
   "cell_type": "markdown",
   "metadata": {},
   "source": [
    "View traces of selected factors acording to Caiman"
   ]
  },
  {
   "cell_type": "code",
   "execution_count": null,
   "metadata": {
    "scrolled": true
   },
   "outputs": [],
   "source": [
    "cnm.estimates.nb_view_components(img=med, idx=n_cells,denoised_color='red')"
   ]
  },
  {
   "cell_type": "markdown",
   "metadata": {},
   "source": [
    "## Compare Agonia and Caiman temporal traces"
   ]
  },
  {
   "cell_type": "code",
   "execution_count": null,
   "metadata": {},
   "outputs": [],
   "source": [
    "#select cells\n",
    "n_cells = [185,199]\n",
    "selected_cells = [np.array(boxes_traces[n]) for n in n_cells]\n",
    "boxes_mean = [np.mean(selected_cells[i],axis=(0,1)) for i in range(len(n_cells))]\n",
    "boxes_med = [np.median(selected_cells[i],axis=(0,1)) for i in range(len(n_cells))]\n",
    "Amean_norm1 = (boxes_mean[0]-min(boxes_mean[0]))/max(boxes_mean[0]-min(boxes_mean[0]))\n",
    "Amean_norm2 = (boxes_mean[1]-min(boxes_mean[1]))/max(boxes_mean[1]-min(boxes_mean[0]))\n",
    "\n",
    "C_1 = (cnm.estimates.YrA[n_cells[0]]+cnm.estimates.C[n_cells[0]]-min(cnm.estimates.YrA[n_cells[0]]+cnm.estimates.C[n_cells[0]]))/max(cnm.estimates.YrA[n_cells[0]]+cnm.estimates.C[n_cells[0]]-min(cnm.estimates.YrA[n_cells[0]]+cnm.estimates.C[n_cells[0]]))\n",
    "C_2 = (cnm.estimates.YrA[n_cells[1]]+cnm.estimates.C[n_cells[1]]-min(cnm.estimates.YrA[n_cells[1]]+cnm.estimates.C[n_cells[1]]))/max(cnm.estimates.YrA[n_cells[1]]+cnm.estimates.C[n_cells[1]]-min(cnm.estimates.YrA[n_cells[1]]+cnm.estimates.C[n_cells[1]]))"
   ]
  },
  {
   "cell_type": "markdown",
   "metadata": {},
   "source": [
    "#### Plot Caiman factors on top of AGONIA mean boxes"
   ]
  },
  {
   "cell_type": "code",
   "execution_count": null,
   "metadata": {},
   "outputs": [],
   "source": [
    "plt.figure(figsize=(20,12))\n",
    "plt.subplot(211)\n",
    "plt.plot(Amean_norm1)\n",
    "plt.plot(C_1)\n",
    "plt.subplot(212)\n",
    "plt.plot(Amean_norm2)\n",
    "plt.plot(C_2)\n"
   ]
  },
  {
   "cell_type": "markdown",
   "metadata": {},
   "source": [
    "#### Correlation between Caiman factors and Agonia boxes means"
   ]
  },
  {
   "cell_type": "code",
   "execution_count": null,
   "metadata": {},
   "outputs": [],
   "source": [
    "\n",
    "plt.imshow(np.corrcoef([C_1,C_2,Amean_norm1,Amean_norm2]),vmin=0,cmap='inferno')\n",
    "plt.xticks([0,1,2,3],['C_1','C_2','A_mean1','A_mean2'])\n",
    "plt.yticks([0,1,2,3],['C_1','C_2','A_mean1','A_mean2'])\n",
    "plt.colorbar()\n",
    "plt.show()"
   ]
  },
  {
   "cell_type": "code",
   "execution_count": null,
   "metadata": {},
   "outputs": [],
   "source": [
    "plt.figure(figsize=(18,4))\n",
    "plt.subplot(131)\n",
    "plt.imshow(np.corrcoef([(cnm.estimates.C[n_cells[0]]-min(cnm.estimates.C[n_cells[0]]))/max(cnm.estimates.C[n_cells[0]]-min(cnm.estimates.C[n_cells[0]])),\n",
    "                        (cnm.estimates.C[n_cells[1]]-min(cnm.estimates.C[n_cells[1]]))/max(cnm.estimates.C[n_cells[1]]-min(cnm.estimates.C[n_cells[1]])),\n",
    "                        Amean_norm1,Amean_norm2]),vmin=0,cmap='inferno')\n",
    "plt.xticks([0,1,2,3],['C_1','C_2','A_mean1','A_mean2'])\n",
    "plt.yticks([0,1,2,3],['C_1','C_2','A_mean1','A_mean2'])\n",
    "plt.ylim([3.5,-.5])\n",
    "plt.colorbar()\n",
    "plt.show()"
   ]
  },
  {
   "cell_type": "markdown",
   "metadata": {},
   "source": [
    "#### Square error between Caiman factors and AGONIA mean"
   ]
  },
  {
   "cell_type": "markdown",
   "metadata": {},
   "source": [
    "Selected cells"
   ]
  },
  {
   "cell_type": "code",
   "execution_count": null,
   "metadata": {},
   "outputs": [],
   "source": [
    "plt.figure(figsize=(16,4))\n",
    "dist1 = (C_1-Amean_norm1)**2\n",
    "dist2 = (C_2-Amean_norm2)**2\n",
    "plt.subplot(121)\n",
    "h1 = plt.hist(dist1,20)\n",
    "plt.subplot(122)\n",
    "h2 = plt.hist(dist2,20,alpha=.5)"
   ]
  },
  {
   "cell_type": "markdown",
   "metadata": {},
   "source": [
    "All cells"
   ]
  },
  {
   "cell_type": "code",
   "execution_count": null,
   "metadata": {},
   "outputs": [],
   "source": [
    "diff = np.empty(0)\n",
    "noise_diff = np.empty(0)\n",
    "for i,box in enumerate(boxes_traces):\n",
    "    mean_Abox = np.mean(box,axis=(0,1))\n",
    "    A_trace  = (mean_Abox-min(mean_Abox))/max(mean_Abox-min(mean_Abox))\n",
    "    C_trace  = (cnm.estimates.C[i]-min(cnm.estimates.C[i]))/max(cnm.estimates.C[i]-min(cnm.estimates.C[i]))\n",
    "    C_wnoise =(cnm.estimates.YrA[i]+cnm.estimates.C[i]-min(cnm.estimates.YrA[i]+cnm.estimates.C[i]))/max(cnm.estimates.YrA[i]+cnm.estimates.C[i]-min(cnm.estimates.YrA[i]+cnm.estimates.C[i]))\n",
    "    diff = np.append(diff,(C_trace-A_trace)**2)\n",
    "    noise_diff =np.append(noise_diff,(C_wnoise-A_trace)**2)"
   ]
  },
  {
   "cell_type": "code",
   "execution_count": null,
   "metadata": {},
   "outputs": [],
   "source": [
    "h = plt.hist(noise_diff,50)"
   ]
  },
  {
   "cell_type": "markdown",
   "metadata": {},
   "source": [
    "The mean of the box is a proxy for the Caiman traces (**before denoising**) with an error of .01"
   ]
  },
  {
   "cell_type": "code",
   "execution_count": null,
   "metadata": {},
   "outputs": [],
   "source": [
    "plt.imshow(cnm.estimates.A[:,217].toarray().reshape((512,512)))\n"
   ]
  },
  {
   "cell_type": "code",
   "execution_count": null,
   "metadata": {},
   "outputs": [],
   "source": [
    "cnm.estimates.A[:,0].toarray().sum()"
   ]
  },
  {
   "cell_type": "code",
   "execution_count": null,
   "metadata": {},
   "outputs": [],
   "source": [
    "plt.plot(mean_Abox)\n",
    "plt.plot(C_trace)"
   ]
  },
  {
   "cell_type": "code",
   "execution_count": null,
   "metadata": {},
   "outputs": [],
   "source": [
    "from sklearn.decomposition import NMF\n",
    "X = np.array([selected_cells[1][:,:,i].reshape((np.size(selected_cells[1],0)*np.size(selected_cells[1],1))) for i in range(np.size(selected_cells[1],2))]).T\n",
    "\n",
    "# fit NMF\n",
    "model = NMF(n_components=2, init='random', random_state=0)\n",
    "W = model.fit_transform(X)\n",
    "H = model.components_\n"
   ]
  },
  {
   "cell_type": "code",
   "execution_count": null,
   "metadata": {},
   "outputs": [],
   "source": [
    "plt.imshow(np.array(W[:,1]).reshape(np.shape(selected_cells[1][:,:,0])))"
   ]
  },
  {
   "cell_type": "code",
   "execution_count": null,
   "metadata": {},
   "outputs": [],
   "source": [
    "plt.figure(figsize=(16,12))\n",
    "plt.subplot(211)\n",
    "plt.plot(H[0,:])\n",
    "plt.subplot(212)\n",
    "plt.plot(H[1,:])"
   ]
  },
  {
   "cell_type": "code",
   "execution_count": null,
   "metadata": {},
   "outputs": [],
   "source": [
    "plt.figure(figsize=(18,6))\n",
    "plt.plot(Amean_norm1)\n",
    "plt.plot((cnm.estimates.C[n_cells[0]]-min(cnm.estimates.C[n_cells[0]]))/max(cnm.estimates.C[n_cells[0]]-min(cnm.estimates.C[n_cells[0]])))"
   ]
  },
  {
   "cell_type": "code",
   "execution_count": null,
   "metadata": {},
   "outputs": [],
   "source": [
    "plt.figure(figsize=(18,6))\n",
    "plt.plot(cnm.estimates.S[n_cells[0]])"
   ]
  },
  {
   "cell_type": "code",
   "execution_count": null,
   "metadata": {},
   "outputs": [],
   "source": [
    "j=0\n",
    "fig,ax = plt.subplots(figsize=(30,20))\n",
    "ax.imshow(ncaiman_cells[j],cmap='gray')\n",
    "for i in n_cells:#185\n",
    "    rect = Rectangle((ROIs[i,0],ROIs[i,1]), ROIs[i,2]-ROIs[i,0],\n",
    "          ROIs[i,3]-ROIs[i,1],color='r',fill=False)\n",
    "    ax.add_patch(rect)"
   ]
  },
  {
   "cell_type": "code",
   "execution_count": null,
   "metadata": {},
   "outputs": [],
   "source": [
    "#plt.plot(cnm.estimates.C[185])\n",
    "#plt.plot(cnm.estimates.F_dff[185])\n",
    "plt.plot(C_1-np.mean(C_1),alpha=.5)\n",
    "plt.plot(Amean_norm1-np.mean(Amean_norm1),alpha=.5)"
   ]
  },
  {
   "cell_type": "code",
   "execution_count": null,
   "metadata": {},
   "outputs": [],
   "source": [
    "cnm.estimates.detrend_df_f(quantileMin=8, frames_window=250)"
   ]
  },
  {
   "cell_type": "code",
   "execution_count": null,
   "metadata": {},
   "outputs": [],
   "source": [
    "plt.plot(cnm.estimates.C[7])"
   ]
  },
  {
   "cell_type": "code",
   "execution_count": null,
   "metadata": {},
   "outputs": [],
   "source": [
    "plt.imshow(cnm.estimates.b.reshape((512,512)).T)"
   ]
  },
  {
   "cell_type": "code",
   "execution_count": null,
   "metadata": {},
   "outputs": [],
   "source": [
    "cnm.estimates.F_dff.shape"
   ]
  },
  {
   "cell_type": "code",
   "execution_count": null,
   "metadata": {},
   "outputs": [],
   "source": []
  }
 ],
 "metadata": {
  "kernelspec": {
   "display_name": "Python 3",
   "language": "python",
   "name": "python3"
  },
  "language_info": {
   "codemirror_mode": {
    "name": "ipython",
    "version": 3
   },
   "file_extension": ".py",
   "mimetype": "text/x-python",
   "name": "python",
   "nbconvert_exporter": "python",
   "pygments_lexer": "ipython3",
   "version": "3.6.9"
  },
  "toc": {
   "base_numbering": 1,
   "nav_menu": {},
   "number_sections": true,
   "sideBar": true,
   "skip_h1_title": false,
   "title_cell": "Table of Contents",
   "title_sidebar": "Contents",
   "toc_cell": false,
   "toc_position": {
    "height": "calc(100% - 180px)",
    "left": "10px",
    "top": "150px",
    "width": "384px"
   },
   "toc_section_display": true,
   "toc_window_display": true
  },
  "varInspector": {
   "cols": {
    "lenName": 16,
    "lenType": 16,
    "lenVar": 40
   },
   "kernels_config": {
    "python": {
     "delete_cmd_postfix": "",
     "delete_cmd_prefix": "del ",
     "library": "var_list.py",
     "varRefreshCmd": "print(var_dic_list())"
    },
    "r": {
     "delete_cmd_postfix": ") ",
     "delete_cmd_prefix": "rm(",
     "library": "var_list.r",
     "varRefreshCmd": "cat(var_dic_list()) "
    }
   },
   "types_to_exclude": [
    "module",
    "function",
    "builtin_function_or_method",
    "instance",
    "_Feature"
   ],
   "window_display": false
  }
 },
 "nbformat": 4,
 "nbformat_minor": 2
}
