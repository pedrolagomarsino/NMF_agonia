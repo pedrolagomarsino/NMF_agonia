{
 "cells": [
  {
   "cell_type": "code",
   "execution_count": null,
   "metadata": {},
   "outputs": [],
   "source": [
    "import pickle\n",
    "import warnings\n",
    "import scipy.stats\n",
    "import numpy as np\n",
    "import panel as pn\n",
    "import pandas as pd\n",
    "import caiman as cm\n",
    "import panel as pn\n",
    "import holoviews as hv\n",
    "import events_astro as evs\n",
    "import matplotlib.pyplot as plt\n",
    "from matplotlib.patches import Rectangle\n",
    "from holoviews.streams import Stream, param\n",
    "from scipy.ndimage.measurements import center_of_mass\n",
    "from caiman.source_extraction.cnmf import cnmf as cnmf\n",
    "from caiman.source_extraction.cnmf import params as params\n",
    "with warnings.catch_warnings():\n",
    "    warnings.filterwarnings(\"ignore\",category=FutureWarning)\n",
    "    warnings.filterwarnings(\"ignore\",category=DeprecationWarning)\n",
    "    warnings.filterwarnings(\"ignore\",category=FutureWarning)\n",
    "    import utilsss as ut\n",
    "hv.extension('bokeh')\n"
   ]
  },
  {
   "cell_type": "markdown",
   "metadata": {},
   "source": [
    "# Boxes and boxes average traces\n",
    "Widgets to scroll Scores for the detection and box id "
   ]
  },
  {
   "cell_type": "code",
   "execution_count": null,
   "metadata": {},
   "outputs": [],
   "source": [
    "#data_path = '/home/pedro/Work/Hippocampus/1photon/downsampled'\n",
    "#data_path = '/media/pedro/DATAPART1/Zebastiano/DualColor/2019Dec10/5098/TSeries-12082019-1046-2512/Analysis'\n",
    "#data_path = '/media/pedro/DATAPART1/AGOnIA/datasets_figure/prueba'\n",
    "#data_path = '/media/pedro/Elements/Zebastiano/VR_2P/PAPER_ANALYSIS/VR_Respawn_analysis_Neurons/prueba'\n",
    "#data_path = '/media/pedro/DATAPART1/Sara/2P_VR_Data/segmentation_test/room1'\n",
    "data_path = '/media/pedro/DATAPART1/Sara/2P_VR_Data/ROOM_4/2020Feb11/0003/motion_corrected/TSeries-02112020-1107-1335'\n",
    "\n",
    "ut.boxes_exploration(data_path)"
   ]
  },
  {
   "cell_type": "markdown",
   "metadata": {},
   "source": [
    "# Add the seeded-caiman traces and make the plot interactive\n",
    "Click into a cell to select the cell to display. Widget of Score still present. \n",
    "When clicking into a non box location the plots becomes blank and have to change the score to reset. #TODO deal with that error"
   ]
  },
  {
   "cell_type": "code",
   "execution_count": null,
   "metadata": {},
   "outputs": [],
   "source": [
    "#data_path = '/home/pedro/Work/Hippocampus/1photon/downsampled'\n",
    "#data_path = '/media/pedro/DATAPART1/AGOnIA/datasets_figure/prueba'\n",
    "#data_path = '/media/pedro/Elements/Zebastiano/VR_2P/PAPER_ANALYSIS/VR_Respawn_analysis_Neurons/prueba'\n",
    "data_path = '/media/pedro/DATAPART1/Sara/2P_VR_Data/ROOM_4/2020Feb10/0001/motion_corrected/TSeries-02102020-1413-1324'\n",
    "ut.boxes_exploration_interactive(data_path)"
   ]
  },
  {
   "cell_type": "code",
   "execution_count": null,
   "metadata": {},
   "outputs": [],
   "source": [
    "data_path = '/media/pedro/DATAPART1/Sara/2P_VR_Data/ROOM_4/2020Feb10/0001/motion_corrected/TSeries-02102020-1413-1325'\n",
    "\n",
    "ut.boxes_exploration_interactive(data_path)"
   ]
  },
  {
   "cell_type": "markdown",
   "metadata": {},
   "source": [
    "## Using panel to change the location of the widget"
   ]
  },
  {
   "cell_type": "code",
   "execution_count": null,
   "metadata": {},
   "outputs": [],
   "source": [
    "mapa_total = ut.boxes_exploration_interactive(data_path)\n",
    "pn.panel(mapa_total,widget_location='top_left')"
   ]
  },
  {
   "cell_type": "markdown",
   "metadata": {},
   "source": [
    "## A way of sorting the plots how we want that doesnt work\n",
    "Apparently there's no way to do this without fucking up everything. here https://github.com/holoviz/holoviews/issues/91 say's basically that, there's no way of making the layouts more flexible. "
   ]
  },
  {
   "cell_type": "code",
   "execution_count": null,
   "metadata": {},
   "outputs": [],
   "source": [
    "gspec = pn.GridSpec(sizing_mode='stretch_both', max_height=800)\n",
    "gspec[2:10,0] = mapa_total[0]\n",
    "gspec[2:6,2] = mapa_total[1]\n",
    "gspec[6:10,2] = mapa_total[2]\n",
    "pn.panel(gspec,widget_location='right')"
   ]
  },
  {
   "cell_type": "markdown",
   "metadata": {},
   "source": [
    "# Load DLC data and see the occupation"
   ]
  },
  {
   "cell_type": "code",
   "execution_count": null,
   "metadata": {},
   "outputs": [],
   "source": [
    "filename = '/media/pedro/DATAPART1/Zebastiano/Inscopix/2019Mar29/3595/Basler acA800-510um (22829209)_20190329_170429783DLC_resnet50_mouse_trackingOct14shuffle1_50000.h5'\n",
    "cnm = cnmf.load_CNMF('/home/pedro/Work/Hippocampus/1photon/downsampled/mc_preprocessed_spacial_downsampled2_20190329170534_0_analysis_results_Caiman_refit.hdf5')\n",
    "cnm.estimates.detrend_df_f(quantileMin=50,frames_window=2000,detrend_only=False)\n",
    "#result = pd.read_hdf(filename)\n",
    "#scorer = result.columns.get_level_values(0)[0]\n",
    "result = ut.read_dlc_results(filename)\n",
    "result"
   ]
  },
  {
   "cell_type": "markdown",
   "metadata": {},
   "source": [
    "## Downsample bodyposition a-lo-cabeza\n",
    "Average neighbouring positions in time. This is done to correlate with calcium activity"
   ]
  },
  {
   "cell_type": "code",
   "execution_count": null,
   "metadata": {},
   "outputs": [],
   "source": [
    "bodypart = 'leftear'\n",
    "X =np.array([(result[bodypart]['x'][index+1]+result[bodypart]['x'][index])/2 for index in np.linspace(0,\n",
    "                        result[bodypart].index[-2],result[bodypart].index[-2]/2).astype(int)])\n",
    "Y =np.array([198-(result[bodypart]['y'][index+1]+result[bodypart]['y'][index])/2 for index in np.linspace(0,\n",
    "                        result[bodypart].index[-2],result[bodypart].index[-2]/2).astype(int)])"
   ]
  },
  {
   "cell_type": "code",
   "execution_count": null,
   "metadata": {},
   "outputs": [],
   "source": [
    "cnm.estimates.nb_view_components()"
   ]
  },
  {
   "cell_type": "markdown",
   "metadata": {},
   "source": [
    "## Interactivly present resuts to see trayectories and activity"
   ]
  },
  {
   "cell_type": "code",
   "execution_count": null,
   "metadata": {},
   "outputs": [],
   "source": [
    "cell = 150\n",
    "events = evs.eventFinder(cnm.estimates.F_dff[cell])\n",
    "path = hv.Path([(X,Y,events[0])], vdims='fluorescence')\n",
    "path.opts(cmap='inferno', color='fluorescence', line_width=2,width=600,height=600)\n",
    "kdims=[hv.Dimension('t', values=np.linspace(0,len(X)-1,len(X)).astype(int))]\n",
    "def move_dot(t):\n",
    "    return hv.Scatter((X[t],Y[t])).opts(color='r', size=4)\n",
    "dmap = hv.DynamicMap(move_dot, kdims=kdims)\n"
   ]
  },
  {
   "cell_type": "code",
   "execution_count": null,
   "metadata": {},
   "outputs": [],
   "source": [
    "pn.panel(path*dmap+hv.Curve(cnm.estimates.F_dff[cell],kdims = 'frames',vdims = 'Denoised calcium').opts(width=600)*hv.Curve(events[0]).opts(alpha=.5),widget_location='bottom_right')"
   ]
  },
  {
   "cell_type": "code",
   "execution_count": null,
   "metadata": {},
   "outputs": [],
   "source": [
    "curve_dict = {i: place_activity(i) for i in range(len(cnm.estimates.F_dff))}\n",
    "\n",
    "kdims = [hv.Dimension('cell', values=np.linspace(0,len(cnm.estimates.F_dff)-1,len(cnm.estimates.F_dff)).astype(int))]\n",
    "holomap = hv.HoloMap(curve_dict, kdims=kdims).options(framewise=True)\n",
    "pn.panel(holomap,widget_location='bottom_right')"
   ]
  },
  {
   "cell_type": "code",
   "execution_count": null,
   "metadata": {},
   "outputs": [],
   "source": [
    "def place_activity(cell):\n",
    "    events = evs.eventFinder(cnm.estimates.F_dff[cell])\n",
    "    path = hv.Path([(X,Y,events[0])], vdims='fluorescence')\n",
    "    path.opts(cmap='Greys', color='fluorescence', line_width=2,width=600,height=600)\n",
    "    return (path+hv.Curve(cnm.estimates.F_dff[cell],kdims = 'frames',vdims = 'Denoised calcium').opts(width=600)*hv.Curve(events[0]).opts(alpha=.5))\n",
    "\n",
    "kdims=[hv.Dimension('cell', values=np.linspace(0,len(cnm.estimates.F_dff)-1,len(cnm.estimates.F_dff)).astype(int))]\n",
    "dmap = hv.DynamicMap(place_activity, kdims=kdims)\n",
    "pn.panel(dmap,widget_location='bottom_right')\n"
   ]
  }
 ],
 "metadata": {
  "kernelspec": {
   "display_name": "Python 3",
   "language": "python",
   "name": "python3"
  },
  "language_info": {
   "codemirror_mode": {
    "name": "ipython",
    "version": 3
   },
   "file_extension": ".py",
   "mimetype": "text/x-python",
   "name": "python",
   "nbconvert_exporter": "python",
   "pygments_lexer": "ipython3",
   "version": "3.6.9"
  },
  "toc": {
   "base_numbering": 1,
   "nav_menu": {},
   "number_sections": true,
   "sideBar": true,
   "skip_h1_title": false,
   "title_cell": "Table of Contents",
   "title_sidebar": "Contents",
   "toc_cell": false,
   "toc_position": {},
   "toc_section_display": true,
   "toc_window_display": false
  },
  "varInspector": {
   "cols": {
    "lenName": 16,
    "lenType": 16,
    "lenVar": 40
   },
   "kernels_config": {
    "python": {
     "delete_cmd_postfix": "",
     "delete_cmd_prefix": "del ",
     "library": "var_list.py",
     "varRefreshCmd": "print(var_dic_list())"
    },
    "r": {
     "delete_cmd_postfix": ") ",
     "delete_cmd_prefix": "rm(",
     "library": "var_list.r",
     "varRefreshCmd": "cat(var_dic_list()) "
    }
   },
   "types_to_exclude": [
    "module",
    "function",
    "builtin_function_or_method",
    "instance",
    "_Feature"
   ],
   "window_display": false
  }
 },
 "nbformat": 4,
 "nbformat_minor": 2
}
